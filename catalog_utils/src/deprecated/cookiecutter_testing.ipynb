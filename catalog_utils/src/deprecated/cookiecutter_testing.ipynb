{
 "cells": [
  {
   "cell_type": "code",
   "execution_count": 1,
   "id": "c0d6d941",
   "metadata": {},
   "outputs": [],
   "source": [
    "import numpy as np\n",
    "from numpy.lib import recfunctions as rf\n",
    "from pathlib import Path\n",
    "import fitsio\n",
    "from astropy.wcs import WCS\n",
    "from astropy.coordinates import SkyCoord\n",
    "import galsim as gs\n",
    "import astropy.units as u\n",
    "from astropy.table import Table, vstack\n",
    "import glob\n",
    "import os\n",
    "from astropy.io import fits\n",
    "import matplotlib.pyplot as plt\n",
    "%matplotlib inline\n",
    "plt.ion()\n",
    "import pdb"
   ]
  },
  {
   "cell_type": "code",
   "execution_count": 2,
   "id": "c846bf8c",
   "metadata": {},
   "outputs": [],
   "source": [
    "#id_tag = self.config['input']['id_tag']\n",
    "#ra_tag = self.config['input']['ra_tag']\n",
    "#dec_tag = self.config['input']['dec_tag']\n",
    "ra_tag = 'ALPHAWIN_J2000'\n",
    "dec_tag = 'DELTAWIN_J2000'\n",
    "\n",
    "ra_unit = u.Unit('deg')\n",
    "dec_unit = u.Unit('deg')"
   ]
  },
  {
   "cell_type": "code",
   "execution_count": 3,
   "id": "cc209fe1",
   "metadata": {},
   "outputs": [
    {
     "name": "stdout",
     "output_type": "stream",
     "text": [
      "0.19993176\n",
      "(35, 35)\n"
     ]
    },
    {
     "data": {
      "image/png": "[encoded data removed]",
      "text/plain": [
       "<Figure size 640x480 with 1 Axes>"
      ]
     },
     "metadata": {},
     "output_type": "display_data"
    }
   ],
   "source": [
    "workdir = '/Users/j.mccleary/Research/jwst_cosmos/real_data/working2'\n",
    "catalog_name = 'mosaic_nircam_f115w_COSMOS-Web_30mas_v0_1_starcat.fits'\n",
    "catalog = os.path.join(workdir, catalog_name)\n",
    "\n",
    "starcat = Table.read(catalog, hdu=2)\n",
    "obj = starcat[212]\n",
    "vignet_size = np.shape(obj['VIGNET'])[0]\n",
    "plt.figure()\n",
    "plt.imshow(obj['VIGNET'], vmin=-0.005, vmax=0.2)\n",
    "plt.axvline((vignet_size-1)/2, ls='-', color='m')\n",
    "plt.axhline((vignet_size-1)/2, ls='-', color='m')\n",
    "\n",
    "print(np.max(obj['VIGNET']))\n",
    "print(np.shape(obj['VIGNET']))\n"
   ]
  },
  {
   "cell_type": "code",
   "execution_count": 4,
   "id": "aa4759b7",
   "metadata": {},
   "outputs": [
    {
     "name": "stdout",
     "output_type": "stream",
     "text": [
      "<SkyCoord (ICRS): (ra, dec) in deg\n",
      "    (149.94369189, 2.32615811)>\n"
     ]
    }
   ],
   "source": [
    "coord = SkyCoord(\n",
    "    ra=obj[ra_tag]*ra_unit, dec=obj[dec_tag]*dec_unit\n",
    "    )\n",
    "\n",
    "print(coord)"
   ]
  },
  {
   "cell_type": "code",
   "execution_count": 5,
   "id": "75334f7a",
   "metadata": {},
   "outputs": [
    {
     "name": "stderr",
     "output_type": "stream",
     "text": [
      "WARNING: FITSFixedWarning: 'datfix' made the change 'Set DATE-BEG to '2023-01-05T19:26:17.065' from MJD-BEG.\n",
      "Set DATE-AVG to '2023-01-05T22:56:52.544' from MJD-AVG.\n",
      "Set DATE-END to '2023-01-06T02:28:19.476' from MJD-END'. [astropy.wcs.wcs]\n",
      "WARNING: FITSFixedWarning: 'obsfix' made the change 'Set OBSGEO-L to   101.486536 from OBSGEO-[XYZ].\n",
      "Set OBSGEO-B to     7.466039 from OBSGEO-[XYZ].\n",
      "Set OBSGEO-H to 1695402595.540 from OBSGEO-[XYZ]'. [astropy.wcs.wcs]\n"
     ]
    }
   ],
   "source": [
    "imdir = '/Users/j.mccleary/Research/jwst_cosmos/real_data/'\n",
    "im_name = 'mosaic_nircam_f115w_COSMOS-Web_30mas_v0_1_sci.fits'\n",
    "imfile = os.path.join(imdir, im_name)\n",
    "\n",
    "# OK, so in cookie cutter, image is a fitsio.FITS object and specifically the first extension! \n",
    "# imfile = fitsio.FITS('mosaic_nircam_f150w_COSMOS-Web_30mas_v0_1_sci.fits', 'r')[0]\n",
    "# image array is f.read()\n",
    "\n",
    "# default behavior is to grab it from the passed image header\n",
    "# For whatever reason, with the way the COSMOS-Web coadds are, astropy.io.fits\n",
    "# works better than fitsio. \n",
    "wcs = WCS(fits.getheader(imfile))\n",
    "\n",
    "# Image is the fitsio.FITS instance for that extension\n",
    "image = fitsio.FITS(imfile, 'r')[0]\n",
    "image_shape = image.get_info()['dims']\n",
    "\n",
    "# x, y = wcs.world_to_pixel(coord)\n",
    "x, y = wcs.all_world2pix(\n",
    "    coord.ra.value, coord.dec.value, 0\n",
    "    )\n",
    "object_pos_in_image = [x.item(), y.item()]\n",
    "\n",
    "# NOTE: reversed as numpy arrays have opposite convention!\n",
    "object_pos_in_image_array = object_pos_in_image[-1::-1]\n",
    "\n",
    "x, y = wcs.all_world2pix(\n",
    "    starcat[ra_tag], starcat[dec_tag], 0\n",
    "    )\n"
   ]
  },
  {
   "cell_type": "code",
   "execution_count": 6,
   "id": "978bd756",
   "metadata": {},
   "outputs": [
    {
     "data": {
      "text/plain": [
       "WCS Keywords\n",
       "\n",
       "Number of WCS axes: 2\n",
       "CTYPE : 'RA---TAN'  'DEC--TAN'  \n",
       "CRVAL : 150.1163213  2.200973097  \n",
       "CRPIX : -8440.5  1640.5  \n",
       "PC1_1 PC1_2  : -1.0  0.0  \n",
       "PC2_1 PC2_2  : 0.0  1.0  \n",
       "CDELT : 8.33333333333333e-06  8.33333333333333e-06  \n",
       "NAXIS : 30000  36000"
      ]
     },
     "execution_count": 6,
     "metadata": {},
     "output_type": "execute_result"
    }
   ],
   "source": [
    "wcs"
   ]
  },
  {
   "cell_type": "code",
   "execution_count": 7,
   "id": "1b389850",
   "metadata": {},
   "outputs": [
    {
     "data": {
      "text/plain": [
       "[16662.991306853823, 12257.070579945295]"
      ]
     },
     "execution_count": 7,
     "metadata": {},
     "output_type": "execute_result"
    }
   ],
   "source": [
    "object_pos_in_image_array"
   ]
  },
  {
   "cell_type": "code",
   "execution_count": 8,
   "id": "3475a999",
   "metadata": {},
   "outputs": [],
   "source": [
    "from src.utils import read_yaml"
   ]
  },
  {
   "cell_type": "code",
   "execution_count": 9,
   "id": "d4644fa9",
   "metadata": {},
   "outputs": [
    {
     "data": {
      "text/plain": [
       "{'input_catalog': {'hdu': 2,\n",
       "  'x_tag': 'X_IMAGE',\n",
       "  'y_tag': 'Y_IMAGE',\n",
       "  'ra_tag': 'ALPHAWIN_J2000',\n",
       "  'dec_tag': 'DELTAWIN_J2000',\n",
       "  'ra_units': 'deg',\n",
       "  'dec_units': 'deg'},\n",
       " 'box_size': 35,\n",
       " 'err_image': {'hdu': 0},\n",
       " 'configdir': '/Users/j.mccleary/Research/jwst_cosmos/cweb_psf/astro_config/',\n",
       " 'outdir': '/Users/j.mccleary/Research/jwst_cosmos/real_data/working2/'}"
      ]
     },
     "execution_count": 9,
     "metadata": {},
     "output_type": "execute_result"
    }
   ],
   "source": [
    "yml = read_yaml('src/cookie_cutter.yaml')\n",
    "yml"
   ]
  },
  {
   "cell_type": "code",
   "execution_count": 10,
   "id": "5e9cd228",
   "metadata": {},
   "outputs": [],
   "source": [
    "ra_tag = yml['input_catalog']['ra_tag']\n",
    "box_size = int(yml['box_size'])"
   ]
  },
  {
   "cell_type": "code",
   "execution_count": null,
   "id": "d71f9ae4",
   "metadata": {},
   "outputs": [],
   "source": [
    "# x, y = wcs.world_to_pixel(coord)\n",
    "#object_pos_in_image = [x.item(), y.item()]\n"
   ]
  },
  {
   "cell_type": "code",
   "execution_count": 12,
   "id": "495d4463",
   "metadata": {},
   "outputs": [
    {
     "name": "stdout",
     "output_type": "stream",
     "text": [
      "WCS coords:\n",
      "    (x,y) = (10215.016642383714, 9251.588125090562)\n",
      "    (x,y) = (9827.553870887896, 10195.146790855168)\n",
      "    (x,y) = (9798.092818709738, 10195.704451801637)\n",
      "    (x,y) = (10279.743018124485, 10242.848848845057)\n",
      "    (x,y) = (10462.055995831415, 10296.760059020466)\n",
      "\n",
      "Table X/Y_IMAGE coords:\n",
      "    (x,y) = (10216.0751953125, 9252.7890625)\n",
      "    (x,y) = (9828.54296875, 10196.361328125)\n",
      "    (x,y) = (9798.9384765625, 10196.669921875)\n",
      "    (x,y) = (10280.71484375, 10243.9560546875)\n",
      "    (x,y) = (10463.0205078125, 10297.7431640625)\n"
     ]
    },
    {
     "data": {
      "text/plain": [
       "[None, None, None, None, None]"
      ]
     },
     "execution_count": 12,
     "metadata": {},
     "output_type": "execute_result"
    }
   ],
   "source": [
    "def printout(x, y):\n",
    "    return print(f'    (x,y) = ({x}, {y})')\n",
    "\n",
    "print('WCS coords:')\n",
    "list(map(printout, x[0:5], y[0:5]))\n",
    "\n",
    "print('')\n",
    "print('Table X/Y_IMAGE coords:')\n",
    "list(map(printout, starcat['X_IMAGE'][0:5], starcat['Y_IMAGE'][0:5]))\n"
   ]
  },
  {
   "cell_type": "code",
   "execution_count": 13,
   "id": "61fe68c4",
   "metadata": {},
   "outputs": [],
   "source": [
    "def _grab_box(im, x, y, box_size):\n",
    "    '''\n",
    "    WHAT'S IN THE BAAAHHX:\n",
    "        im: should be array-like format\n",
    "        x, y: location of star from catalog\n",
    "        box_size: vignet size to cut around star\n",
    "    Returns:\n",
    "        WHAT'S IN THE BAAAAHX\n",
    "    '''\n",
    "\n",
    "    bb = box_size/2\n",
    "    j1 = int(np.floor(x-bb))\n",
    "    j2 = int(np.floor(x+bb))\n",
    "    k1 = int(np.floor(y-bb))\n",
    "    k2 = int(np.floor(y+bb))\n",
    "    # print(j1, j2, k1, k2)\n",
    "    #this_box = im[k1:k2, j1:j2]\n",
    "    \n",
    "    return im[k1:k2, j1:j2]\n"
   ]
  },
  {
   "cell_type": "code",
   "execution_count": 14,
   "id": "3382cf75",
   "metadata": {},
   "outputs": [
    {
     "name": "stdout",
     "output_type": "stream",
     "text": [
      "12257.938 16663.816\n",
      "35\n"
     ]
    }
   ],
   "source": [
    "x = obj['X_IMAGE']; y= obj['Y_IMAGE']\n",
    "print(x, y)\n",
    "box_size = 35\n",
    "print(box_size)\n",
    "this_box = _grab_box(image, obj['X_IMAGE'], obj['Y_IMAGE'], box_size)"
   ]
  },
  {
   "cell_type": "code",
   "execution_count": 15,
   "id": "837cefb8",
   "metadata": {},
   "outputs": [
    {
     "data": {
      "text/plain": [
       "(35, 35)"
      ]
     },
     "execution_count": 15,
     "metadata": {},
     "output_type": "execute_result"
    },
    {
     "data": {
      "image/png": "[encoded data removed]",
      "text/plain": [
       "<Figure size 640x480 with 1 Axes>"
      ]
     },
     "metadata": {},
     "output_type": "display_data"
    }
   ],
   "source": [
    "plt.imshow(this_box)\n",
    "plt.axvline(np.floor(box_size/2), ls='-', color='m')\n",
    "plt.axhline(np.floor(box_size/2), ls='-', color='m')\n",
    "this_box.shape"
   ]
  },
  {
   "cell_type": "code",
   "execution_count": 17,
   "id": "9b10f058",
   "metadata": {},
   "outputs": [],
   "source": [
    "class BoxCutter:\n",
    "    def __init__(self, config_file, image_file=None, box_size=None, x=None, y=None):\n",
    "        '''\n",
    "        Busted cookie-cutter\n",
    "        '''\n",
    "        self.config_file = config_file\n",
    "        self.image_file = image_file\n",
    "        self.x = x\n",
    "        self.y = y\n",
    "        self.image = []\n",
    "        self.error = []\n",
    "        \n",
    "        self.config = read_yaml(self.config_file)\n",
    "        \n",
    "        # We refer to box size a lot so read it in, w/e\n",
    "        self.box_size = self.config['box_size']\n",
    "        \n",
    "    \n",
    "    def _grab_box(self, x, y):\n",
    "        '''\n",
    "        WHAT'S IN THE BAAAHHX:\n",
    "            im: should be array-like format\n",
    "            x, y: location of star from catalog\n",
    "            box_size: vignet size to cut around star\n",
    "        Returns:\n",
    "            WHAT'S IN THE BAAAAHX\n",
    "        '''\n",
    "        \n",
    "        bb = self.box_size/2\n",
    "        im = self.image\n",
    "        j1 = int(np.floor(x-bb))\n",
    "        j2 = int(np.floor(x+bb))\n",
    "        k1 = int(np.floor(y-bb))\n",
    "        k2 = int(np.floor(y+bb))\n",
    "        # print(j1, j2, k1, k2)\n",
    "        #this_box = im[k1:k2, j1:j2]\n",
    "        return im[k1:k2, j1:j2]\n",
    "        \n",
    "        \n",
    "    def grab_boxes(self, image_file, cat_name):\n",
    "        '''\n",
    "        Load image files, call box grabber\n",
    "        '''\n",
    "        config = self.config\n",
    "        cat_hdu = config['input_catalog']['hdu']\n",
    "        x_tag = config['input_catalog']['x_tag']\n",
    "        y_tag = config['input_catalog']['y_tag']\n",
    "\n",
    "        hdu = config['err_image']['hdu']\n",
    "        box_size = config['box_size']\n",
    "\n",
    "        # Reading in a file you just saved to disk, v. nice\n",
    "        starcat = Table.read(cat_name, hdu=cat_hdu)\n",
    "        # Also read in the weight itself\n",
    "        self.image = fitsio.FITS(image_file, 'r')[hdu]\n",
    "        # Grab the box. Be fancy, use maps.\n",
    "        \n",
    "        #ind = np.arange(len(starcat[x_tag])-1)\n",
    "        x = starcat[x_tag]#[0:ind]; \n",
    "        y = starcat[y_tag]#[0:ind]\n",
    "        new_boxes = list(map(self._grab_box,x,y))\n",
    "                \n",
    "        return new_boxes\n",
    "        \n",
    "        \n",
    "grab = BoxCutter(config_file = 'src/cookie_cutter.yaml', image_file=im_name)"
   ]
  },
  {
   "cell_type": "code",
   "execution_count": 18,
   "id": "de9252f1",
   "metadata": {},
   "outputs": [],
   "source": [
    "config = grab.config\n",
    "cat_hdu = config['input_catalog']['hdu']\n",
    "x_tag = config['input_catalog']['x_tag']\n",
    "y_tag = config['input_catalog']['y_tag']\n",
    "\n",
    "hdu = config['err_image']['hdu']\n",
    "box_size = config['box_size']\n"
   ]
  },
  {
   "cell_type": "code",
   "execution_count": 19,
   "id": "fdd57d62",
   "metadata": {},
   "outputs": [
    {
     "data": {
      "text/plain": [
       "896"
      ]
     },
     "execution_count": 19,
     "metadata": {},
     "output_type": "execute_result"
    }
   ],
   "source": [
    "ll = grab.grab_boxes(imfile, catalog)\n",
    "len(ll)\n"
   ]
  },
  {
   "cell_type": "code",
   "execution_count": 239,
   "id": "89d0ca08",
   "metadata": {},
   "outputs": [
    {
     "data": {
      "text/plain": [
       "True"
      ]
     },
     "execution_count": 239,
     "metadata": {},
     "output_type": "execute_result"
    }
   ],
   "source": [
    "type(imfile) is str"
   ]
  },
  {
   "cell_type": "code",
   "execution_count": 228,
   "id": "87782056",
   "metadata": {},
   "outputs": [
    {
     "data": {
      "text/html": [
       "<div><i>Table length=896</i>\n",
       "<table id=\"table6100112144\" class=\"table-striped table-bordered table-condensed\">\n",
       "<thead><tr><th>NUMBER</th><th>ALPHAWIN_J2000</th><th>DELTAWIN_J2000</th><th>X_IMAGE</th><th>Y_IMAGE</th><th>XWIN_IMAGE</th><th>YWIN_IMAGE</th><th>MAG_ISO</th><th>MAGERR_ISO</th><th>MAG_ISOCOR</th><th>MAGERR_ISOCOR</th><th>MAG_APER</th><th>MAGERR_APER</th><th>MAG_AUTO</th><th>MAGERR_AUTO</th><th>MAG_BEST</th><th>MAGERR_BEST</th><th>FLUX_AUTO</th><th>FLUXERR_AUTO</th><th>FLUX_BEST</th><th>FLUXERR_BEST</th><th>FLUX_ISO</th><th>FLUXERR_ISO</th><th>KRON_RADIUS</th><th>BACKGROUND</th><th>THRESHOLD</th><th>FLUX_MAX</th><th>ISOAREA_IMAGE</th><th>X2_IMAGE</th><th>Y2_IMAGE</th><th>XY_IMAGE</th><th>YMIN_IMAGE</th><th>YMAX_IMAGE</th><th>XMIN_IMAGE</th><th>XMAX_IMAGE</th><th>A_IMAGE</th><th>B_IMAGE</th><th>THETA_IMAGE</th><th>MU_THRESHOLD</th><th>MU_MAX</th><th>ISOAREA_WORLD</th><th>X_WORLD</th><th>Y_WORLD</th><th>A_WORLD</th><th>B_WORLD</th><th>THETA_WORLD</th><th>FLAGS</th><th>FWHM_IMAGE</th><th>FWHM_WORLD</th><th>ELONGATION</th><th>CLASS_STAR</th><th>FLUX_RADIUS</th><th>FLUX_APER</th><th>ELLIPTICITY</th><th>VIGNET</th><th>SNR_WIN</th><th>[&apos;err_cutout&apos;]</th></tr></thead>\n",
       "<thead><tr><th></th><th>deg</th><th>deg</th><th>pix</th><th>pix</th><th>pix</th><th>pix</th><th>mag</th><th>mag</th><th>mag</th><th>mag</th><th>mag</th><th>mag</th><th>mag</th><th>mag</th><th>mag</th><th>mag</th><th>ct</th><th>ct</th><th>ct</th><th>ct</th><th>ct</th><th>ct</th><th></th><th>ct</th><th>ct</th><th>ct</th><th>pix2</th><th>pix2</th><th>pix2</th><th>pix2</th><th>pix</th><th>pix</th><th>pix</th><th>pix</th><th>pix</th><th>pix</th><th>deg</th><th>mag / arcsec2</th><th>mag / arcsec2</th><th>deg2</th><th>deg</th><th>deg</th><th>deg</th><th>deg</th><th>deg</th><th></th><th>pix</th><th>deg</th><th></th><th></th><th>pix</th><th>ct</th><th></th><th>ct</th><th></th><th></th></tr></thead>\n",
       "<thead><tr><th>int32</th><th>float64</th><th>float64</th><th>float32</th><th>float32</th><th>float64</th><th>float64</th><th>float32</th><th>float32</th><th>float32</th><th>float32</th><th>float32</th><th>float32</th><th>float32</th><th>float32</th><th>float32</th><th>float32</th><th>float32</th><th>float32</th><th>float32</th><th>float32</th><th>float32</th><th>float32</th><th>float32</th><th>float32</th><th>float32</th><th>float32</th><th>int32</th><th>float64</th><th>float64</th><th>float64</th><th>int32</th><th>int32</th><th>int32</th><th>int32</th><th>float32</th><th>float32</th><th>float32</th><th>float32</th><th>float32</th><th>float32</th><th>float64</th><th>float64</th><th>float32</th><th>float32</th><th>float32</th><th>int16</th><th>float32</th><th>float32</th><th>float32</th><th>float32</th><th>float32</th><th>float32</th><th>float32</th><th>float32[35,35]</th><th>float32</th><th>float32[45,45]</th></tr></thead>\n",
       "<tr><td>2</td><td>149.9607293</td><td>2.2643988</td><td>10216.0752</td><td>9252.7891</td><td>10216.0166</td><td>9252.5881</td><td>27.4402</td><td>0.0574</td><td>27.1841</td><td>0.1134</td><td>27.2985</td><td>2.9431</td><td>26.8855</td><td>0.1268</td><td>26.8855</td><td>0.1268</td><td>3.022787</td><td>0.3528211</td><td>3.022787</td><td>0.3528211</td><td>1.813573</td><td>0.09592197</td><td>4.90</td><td>0.0005911407</td><td>0.09389117</td><td>0.4504485</td><td>8</td><td>5.5157561022e-01</td><td>5.0858545957e-01</td><td>1.1052449299e-01</td><td>9252</td><td>9254</td><td>10215</td><td>10217</td><td>0.802</td><td>0.646</td><td>39.50</td><td>23.1128</td><td>21.3380</td><td>5.555484e-10</td><td>1.4996072882e+02</td><td>2.2644004756e+00</td><td>6.680523e-06</td><td>5.384415e-06</td><td>-39.49</td><td>0</td><td>1.93</td><td>1.61194e-05</td><td>1.241</td><td>0.873</td><td>1.392</td><td>2.066447</td><td>0.194</td><td>0.00104458 ..   0.02361595</td><td>19.59</td><td>0.0 .. -0.0035299624</td></tr>\n",
       "<tr><td>40</td><td>149.9639599</td><td>2.2722621</td><td>9828.5430</td><td>10196.3613</td><td>9828.5539</td><td>10196.1468</td><td>27.0268</td><td>0.0487</td><td>26.6667</td><td>0.1047</td><td>27.0270</td><td>0.4109</td><td>26.7686</td><td>0.0598</td><td>26.7686</td><td>0.0598</td><td>3.366312</td><td>0.1854864</td><td>3.366312</td><td>0.1854864</td><td>2.653944</td><td>0.1191164</td><td>3.50</td><td>-0.001934399</td><td>0.09406628</td><td>0.3887281</td><td>13</td><td>9.1332929259e-01</td><td>9.7129204126e-01</td><td>-2.5390458925e-01</td><td>10195</td><td>10198</td><td>9827</td><td>9830</td><td>1.094</td><td>0.829</td><td>-48.26</td><td>23.0346</td><td>21.4980</td><td>9.027661e-10</td><td>1.4996395995e+02</td><td>2.2722638782e+00</td><td>9.120526e-06</td><td>6.905858e-06</td><td>48.26</td><td>0</td><td>3.50</td><td>2.914564e-05</td><td>1.321</td><td>0.029</td><td>1.551</td><td>2.653394</td><td>0.243</td><td>-0.009016152 ..   0.03436942</td><td>23.54</td><td>-0.05497395 .. -0.022004446</td></tr>\n",
       "<tr><td>42</td><td>149.9642056</td><td>2.2722668</td><td>9798.9385</td><td>10196.6699</td><td>9799.0928</td><td>10196.7045</td><td>26.4443</td><td>0.0294</td><td>26.3107</td><td>0.0523</td><td>26.2672</td><td>0.2028</td><td>26.2856</td><td>0.0379</td><td>26.2856</td><td>0.0379</td><td>5.25255</td><td>0.1834474</td><td>5.25255</td><td>0.1834474</td><td>4.538336</td><td>0.1229201</td><td>3.28</td><td>-0.003163684</td><td>0.09178109</td><td>1.066976</td><td>12</td><td>8.9708677055e-01</td><td>7.3566212013e-01</td><td>1.1606112128e-01</td><td>10195</td><td>10198</td><td>9797</td><td>9801</td><td>0.979</td><td>0.822</td><td>27.59</td><td>23.0350</td><td>20.4017</td><td>8.333226e-10</td><td>1.4996420685e+02</td><td>2.2722664767e+00</td><td>8.155258e-06</td><td>6.846576e-06</td><td>-27.59</td><td>0</td><td>1.97</td><td>1.642976e-05</td><td>1.191</td><td>0.977</td><td>1.182</td><td>5.342174</td><td>0.160</td><td>-0.04855337 ..   0.01131811</td><td>46.89</td><td>-0.026871732 .. 0.024633981</td></tr>\n",
       "<tr><td>47</td><td>149.9601886</td><td>2.2726592</td><td>10280.7148</td><td>10243.9561</td><td>10280.7430</td><td>10243.8488</td><td>27.7656</td><td>0.0742</td><td>27.4009</td><td>0.1506</td><td>26.2918</td><td>0.2068</td><td>27.2689</td><td>0.0824</td><td>27.2689</td><td>0.0824</td><td>2.123557</td><td>0.1612168</td><td>2.123557</td><td>0.1612168</td><td>1.343871</td><td>0.09183239</td><td>3.85</td><td>0.001403041</td><td>0.09587825</td><td>0.295217</td><td>6</td><td>4.2510122961e-01</td><td>5.3723348440e-01</td><td>7.2658475086e-03</td><td>10243</td><td>10245</td><td>10280</td><td>10282</td><td>0.733</td><td>0.652</td><td>86.31</td><td>23.0605</td><td>21.7968</td><td>4.166611e-10</td><td>1.4996018887e+02</td><td>2.2726600999e+00</td><td>6.110653e-06</td><td>5.43027e-06</td><td>-86.30</td><td>0</td><td>2.45</td><td>2.039504e-05</td><td>1.125</td><td>0.308</td><td>1.297</td><td>5.222415</td><td>0.111</td><td>0.01452808 ..  -0.05605007</td><td>16.74</td><td>0.0031580944 .. -0.046436552</td></tr>\n",
       "<tr><td>56</td><td>149.9586681</td><td>2.2731083</td><td>10463.0205</td><td>10297.7432</td><td>10463.0560</td><td>10297.7601</td><td>25.3568</td><td>0.0141</td><td>25.2830</td><td>0.0228</td><td>25.3117</td><td>0.0833</td><td>25.3779</td><td>0.0138</td><td>25.3779</td><td>0.0138</td><td>12.11863</td><td>0.1542009</td><td>12.11863</td><td>0.1542009</td><td>12.35611</td><td>0.1602457</td><td>2.59</td><td>0.001925685</td><td>0.09161065</td><td>2.743848</td><td>25</td><td>1.0753067415e+00</td><td>1.2965731321e+00</td><td>3.2070506317e-03</td><td>10295</td><td>10301</td><td>10461</td><td>10465</td><td>1.139</td><td>1.037</td><td>89.17</td><td>23.1135</td><td>19.3762</td><td>1.736087e-09</td><td>1.4995866843e+02</td><td>2.2731081599e+00</td><td>9.48905e-06</td><td>8.641156e-06</td><td>-89.16</td><td>0</td><td>1.66</td><td>1.384891e-05</td><td>1.098</td><td>0.977</td><td>1.139</td><td>12.87983</td><td>0.089</td><td>-0.005687732 ..  -0.01096414</td><td>122.2</td><td>0.022122515 .. -0.006950262</td></tr>\n",
       "<tr><td>57</td><td>149.9447811</td><td>2.2731686</td><td>12128.3115</td><td>10305.1221</td><td>12128.2044</td><td>10305.1830</td><td>26.9545</td><td>0.0616</td><td>26.5146</td><td>0.1308</td><td>25.9436</td><td>0.2486</td><td>26.4196</td><td>0.0816</td><td>26.4196</td><td>0.0816</td><td>4.642535</td><td>0.3488086</td><td>4.642535</td><td>0.3488086</td><td>2.836535</td><td>0.1608266</td><td>4.85</td><td>-0.00231974</td><td>0.1413316</td><td>0.5811579</td><td>11</td><td>9.4708910431e-01</td><td>5.6711733695e-01</td><td>1.3840123157e-01</td><td>10304</td><td>10306</td><td>12127</td><td>12130</td><td>0.996</td><td>0.723</td><td>18.04</td><td>22.5957</td><td>21.0614</td><td>7.638768e-10</td><td>1.4994478020e+02</td><td>2.2731680679e+00</td><td>8.300442e-06</td><td>6.021136e-06</td><td>-18.03</td><td>0</td><td>2.54</td><td>2.118192e-05</td><td>1.379</td><td>0.830</td><td>1.636</td><td>7.197439</td><td>0.275</td><td>-0.0268927 ..  0.007210655</td><td>19.89</td><td>0.004587966 .. -0.1600858</td></tr>\n",
       "<tr><td>61</td><td>149.9439679</td><td>2.2735365</td><td>12225.9551</td><td>10349.2275</td><td>12225.7113</td><td>10349.3479</td><td>27.5477</td><td>0.0646</td><td>27.1883</td><td>0.1384</td><td>26.9663</td><td>0.4319</td><td>26.8576</td><td>0.0902</td><td>26.8576</td><td>0.0902</td><td>3.101494</td><td>0.2575552</td><td>3.101494</td><td>0.2575552</td><td>1.642622</td><td>0.09774707</td><td>5.67</td><td>-0.0001811439</td><td>0.1017743</td><td>0.469033</td><td>6</td><td>5.6441416889e-01</td><td>4.9836000143e-01</td><td>-1.3052982934e-01</td><td>10348</td><td>10350</td><td>12225</td><td>12227</td><td>0.816</td><td>0.630</td><td>-37.90</td><td>22.9644</td><td>21.2941</td><td>4.1666e-10</td><td>1.4994396582e+02</td><td>2.2735355078e+00</td><td>6.800864e-06</td><td>5.248891e-06</td><td>37.90</td><td>0</td><td>2.36</td><td>1.966931e-05</td><td>1.296</td><td>0.830</td><td>1.578</td><td>2.806127</td><td>0.228</td><td>-0.0060128 ..   0.03304055</td><td>18.85</td><td>0.09194639 .. 0.015439991</td></tr>\n",
       "<tr><td>69</td><td>149.9424459</td><td>2.2739529</td><td>12408.1514</td><td>10399.3545</td><td>12408.1953</td><td>10399.3359</td><td>26.0309</td><td>0.0299</td><td>25.8266</td><td>0.0571</td><td>25.0424</td><td>0.0730</td><td>25.7673</td><td>0.0360</td><td>25.7673</td><td>0.0360</td><td>8.466278</td><td>0.281024</td><td>8.466278</td><td>0.281024</td><td>6.641159</td><td>0.1830319</td><td>3.77</td><td>0.001423693</td><td>0.1053492</td><td>0.9214244</td><td>20</td><td>1.2195922833e+00</td><td>1.4790938040e+00</td><td>-4.2338972430e-01</td><td>10397</td><td>10402</td><td>12406</td><td>12410</td><td>1.339</td><td>0.952</td><td>-53.52</td><td>22.9872</td><td>20.5610</td><td>1.388866e-09</td><td>1.4994244630e+02</td><td>2.2739530542e+00</td><td>1.115588e-05</td><td>7.934247e-06</td><td>53.52</td><td>0</td><td>2.79</td><td>2.325734e-05</td><td>1.406</td><td>0.548</td><td>1.616</td><td>16.50559</td><td>0.289</td><td>0.01661661 ..  -0.02340435</td><td>44.82</td><td>0.050667867 .. -0.02027603</td></tr>\n",
       "<tr><td>74</td><td>149.9439757</td><td>2.2742504</td><td>12224.8301</td><td>10435.0781</td><td>12224.7656</td><td>10435.0125</td><td>27.6047</td><td>0.0721</td><td>27.1754</td><td>0.1519</td><td>26.9315</td><td>0.4144</td><td>27.2093</td><td>0.0931</td><td>27.2093</td><td>0.0931</td><td>2.243212</td><td>0.1922868</td><td>2.243212</td><td>0.1922868</td><td>1.558634</td><td>0.1034472</td><td>4.10</td><td>0.003703098</td><td>0.1055182</td><td>0.4112134</td><td>6</td><td>5.1865272087e-01</td><td>5.4370790915e-01</td><td>1.0100833448e-01</td><td>10434</td><td>10436</td><td>12224</td><td>12226</td><td>0.796</td><td>0.655</td><td>48.54</td><td>22.9949</td><td>21.4369</td><td>4.1666e-10</td><td>1.4994397513e+02</td><td>2.2742509297e+00</td><td>6.629856e-06</td><td>5.460663e-06</td><td>-48.53</td><td>0</td><td>1.94</td><td>1.6174e-05</td><td>1.214</td><td>0.789</td><td>1.230</td><td>2.897358</td><td>0.176</td><td>0.02081243 ..   0.02751668</td><td>17.71</td><td>-0.017649626 .. -0.04775045</td></tr>\n",
       "<tr><td>78</td><td>149.9645080</td><td>2.2744672</td><td>9762.8066</td><td>10460.8076</td><td>9762.8005</td><td>10460.7531</td><td>28.0086</td><td>0.0830</td><td>27.5551</td><td>0.1790</td><td>26.4480</td><td>0.2573</td><td>27.2997</td><td>0.0950</td><td>27.2997</td><td>0.0950</td><td>2.064025</td><td>0.1806437</td><td>2.064025</td><td>0.1806437</td><td>1.074449</td><td>0.08209439</td><td>4.91</td><td>0.0004922159</td><td>0.09959158</td><td>0.2850666</td><td>6</td><td>4.2157276884e-01</td><td>4.2265914688e-01</td><td>1.0685549167e-01</td><td>10460</td><td>10462</td><td>9762</td><td>9764</td><td>0.727</td><td>0.561</td><td>45.15</td><td>22.9805</td><td>21.8347</td><td>4.166613e-10</td><td>1.4996450796e+02</td><td>2.2744676441e+00</td><td>6.060828e-06</td><td>4.678973e-06</td><td>-45.14</td><td>0</td><td>1.98</td><td>1.652293e-05</td><td>1.295</td><td>0.746</td><td>1.361</td><td>4.522813</td><td>0.228</td><td>-0.04832246 ..   0.01247807</td><td>14.93</td><td>0.054139704 .. 0.015104906</td></tr>\n",
       "<tr><td>105</td><td>149.9387315</td><td>2.2758625</td><td>12853.5176</td><td>10628.5146</td><td>12853.5480</td><td>10628.5498</td><td>27.1263</td><td>0.0584</td><td>26.5931</td><td>0.1245</td><td>26.3008</td><td>0.2353</td><td>27.1029</td><td>0.1436</td><td>27.1029</td><td>0.1436</td><td>2.474368</td><td>0.3271564</td><td>2.474368</td><td>0.3271564</td><td>2.421503</td><td>0.1303102</td><td>5.46</td><td>0.02988044</td><td>0.1037689</td><td>0.366307</td><td>13</td><td>9.0641449776e-01</td><td>9.0739439357e-01</td><td>-2.1388580351e-01</td><td>10627</td><td>10630</td><td>12852</td><td>12855</td><td>1.059</td><td>0.832</td><td>-45.07</td><td>23.3243</td><td>21.5625</td><td>9.027625e-10</td><td>1.4993873179e+02</td><td>2.2758622568e+00</td><td>8.822225e-06</td><td>6.937234e-06</td><td>45.07</td><td>0</td><td>2.48</td><td>2.063198e-05</td><td>1.272</td><td>0.016</td><td>1.051</td><td>5.179341</td><td>0.214</td><td>0.06041823 .. -0.002301032</td><td>24.24</td><td>0.09348683 .. 0.054496404</td></tr>\n",
       "<tr><td>116</td><td>149.9450277</td><td>2.2765052</td><td>12098.8389</td><td>10705.5059</td><td>12098.5835</td><td>10705.5722</td><td>27.7607</td><td>0.0713</td><td>27.4307</td><td>0.1522</td><td>26.8713</td><td>0.4091</td><td>27.1788</td><td>0.1038</td><td>27.1788</td><td>0.1038</td><td>2.307158</td><td>0.2204422</td><td>2.307158</td><td>0.2204422</td><td>1.350008</td><td>0.08858242</td><td>5.45</td><td>0.006196825</td><td>0.1067436</td><td>0.3239903</td><td>5</td><td>5.8223032544e-01</td><td>2.4997067635e-01</td><td>-1.5879069664e-02</td><td>10705</td><td>10706</td><td>12098</td><td>12100</td><td>0.764</td><td>0.499</td><td>-2.73</td><td>22.9978</td><td>21.6958</td><td>3.472167e-10</td><td>1.4994502561e+02</td><td>2.2765046018e+00</td><td>6.36275e-06</td><td>4.160065e-06</td><td>2.74</td><td>0</td><td>3.64</td><td>3.032559e-05</td><td>1.529</td><td>0.569</td><td>1.260</td><td>3.062545</td><td>0.346</td><td>-0.02443743 ..  -0.00125066</td><td>17.05</td><td>0.029025134 .. 0.09567514</td></tr>\n",
       "<tr><td>118</td><td>149.9344966</td><td>2.2766104</td><td>13361.4570</td><td>10718.3359</td><td>13361.3294</td><td>10718.3536</td><td>24.4663</td><td>0.0088</td><td>24.4159</td><td>0.0131</td><td>24.1677</td><td>0.0332</td><td>24.4580</td><td>0.0093</td><td>24.4580</td><td>0.0093</td><td>28.27606</td><td>0.2429972</td><td>28.27606</td><td>0.2429972</td><td>28.06071</td><td>0.2260987</td><td>3.07</td><td>-0.0004404453</td><td>0.1035764</td><td>4.836396</td><td>38</td><td>1.4231455028e+00</td><td>1.5947756049e+00</td><td>-2.0421068831e-01</td><td>10715</td><td>10722</td><td>13359</td><td>13365</td><td>1.315</td><td>1.135</td><td>-56.40</td><td>22.9446</td><td>18.7608</td><td>2.638842e-09</td><td>1.4993449558e+02</td><td>2.2766102306e+00</td><td>1.096218e-05</td><td>9.455419e-06</td><td>56.40</td><td>0</td><td>1.80</td><td>1.5006e-05</td><td>1.159</td><td>0.991</td><td>1.136</td><td>36.94412</td><td>0.137</td><td>0.03812352 ..   0.04559257</td><td>226.1</td><td>-0.04019776 .. 0.012014667</td></tr>\n",
       "<tr><td>121</td><td>149.9434582</td><td>2.2768048</td><td>12286.8184</td><td>10741.5576</td><td>12286.7762</td><td>10741.5554</td><td>26.8084</td><td>0.0457</td><td>26.5290</td><td>0.0937</td><td>26.4820</td><td>0.2829</td><td>26.3256</td><td>0.0609</td><td>26.3256</td><td>0.0609</td><td>5.062347</td><td>0.2840094</td><td>5.062347</td><td>0.2840094</td><td>3.245311</td><td>0.1364217</td><td>4.83</td><td>0.004355885</td><td>0.1084158</td><td>0.6112468</td><td>11</td><td>6.9346213633e-01</td><td>9.3328266086e-01</td><td>-3.2701438308e-02</td><td>10740</td><td>10743</td><td>12285</td><td>12288</td><td>0.968</td><td>0.830</td><td>-82.37</td><td>22.9445</td><td>21.0066</td><td>7.638765e-10</td><td>1.4994345785e+02</td><td>2.2768048464e+00</td><td>8.069348e-06</td><td>6.917532e-06</td><td>82.38</td><td>0</td><td>2.22</td><td>1.846062e-05</td><td>1.167</td><td>0.957</td><td>1.552</td><td>4.383274</td><td>0.143</td><td>0.01908796 ..    0.0279611</td><td>28.27</td><td>0.036907148 .. 0.03389449</td></tr>\n",
       "<tr><td>127</td><td>149.9290207</td><td>2.2771248</td><td>14017.9619</td><td>10780.0859</td><td>14017.9232</td><td>10780.1735</td><td>26.9666</td><td>0.0515</td><td>26.7092</td><td>0.1063</td><td>28.0759</td><td>1.9217</td><td>26.8867</td><td>0.0575</td><td>26.8867</td><td>0.0575</td><td>3.019502</td><td>0.1599763</td><td>3.019502</td><td>0.1599763</td><td>2.805257</td><td>0.1329776</td><td>2.85</td><td>0.002033657</td><td>0.1294601</td><td>0.7247055</td><td>9</td><td>5.6759561102e-01</td><td>5.6422498653e-01</td><td>2.9853862458e-03</td><td>10779</td><td>10781</td><td>14017</td><td>14019</td><td>0.755</td><td>0.750</td><td>30.28</td><td>22.7253</td><td>20.8217</td><td>6.249883e-10</td><td>1.4992902038e+02</td><td>2.2771241102e+00</td><td>6.287798e-06</td><td>6.249862e-06</td><td>-30.28</td><td>0</td><td>1.85</td><td>1.5415e-05</td><td>1.006</td><td>0.931</td><td>1.052</td><td>1.009804</td><td>0.006</td><td>0 ..   0.01300524</td><td>24.58</td><td>0.0 .. 0.03377259</td></tr>\n",
       "<tr><td>141</td><td>149.9494562</td><td>2.2778567</td><td>11567.6338</td><td>10867.5674</td><td>11567.5614</td><td>10867.6932</td><td>27.6614</td><td>0.0903</td><td>27.2437</td><td>0.1756</td><td>28.0668</td><td>1.5417</td><td>27.1083</td><td>0.1070</td><td>27.1083</td><td>0.1070</td><td>2.461907</td><td>0.2424556</td><td>2.461907</td><td>0.2424556</td><td>1.479233</td><td>0.1230573</td><td>4.52</td><td>0.002704143</td><td>0.131769</td><td>0.4546142</td><td>6</td><td>2.3213217805e-01</td><td>7.2451611991e-01</td><td>8.0804221624e-03</td><td>10866</td><td>10869</td><td>11567</td><td>11568</td><td>0.851</td><td>0.482</td><td>89.06</td><td>22.7487</td><td>21.3280</td><td>4.166603e-10</td><td>1.4994945562e+02</td><td>2.2778556281e+00</td><td>7.093819e-06</td><td>4.013816e-06</td><td>-89.05</td><td>0</td><td>2.26</td><td>1.884752e-05</td><td>1.767</td><td>0.805</td><td>1.213</td><td>1.018374</td><td>0.434</td><td>-0.0751247 .. -0.001699592</td><td>14.09</td><td>0.029462414 .. -0.0033561129</td></tr>\n",
       "<tr><td>161</td><td>149.9500353</td><td>2.2788039</td><td>11498.0205</td><td>10981.4639</td><td>11498.1132</td><td>10981.3481</td><td>26.3331</td><td>0.0400</td><td>26.0670</td><td>0.0797</td><td>25.2679</td><td>0.1073</td><td>25.9821</td><td>0.0571</td><td>25.9821</td><td>0.0571</td><td>6.94667</td><td>0.3653928</td><td>6.94667</td><td>0.3653928</td><td>5.027838</td><td>0.185066</td><td>4.58</td><td>-0.002430482</td><td>0.1250964</td><td>0.6488006</td><td>14</td><td>1.2790329112e+00</td><td>8.6200502489e-01</td><td>-1.1269872731e-01</td><td>10980</td><td>10983</td><td>11496</td><td>11500</td><td>1.143</td><td>0.913</td><td>-14.20</td><td>22.7430</td><td>20.9418</td><td>9.722073e-10</td><td>1.4995003608e+02</td><td>2.2788048299e+00</td><td>9.528939e-06</td><td>7.607901e-06</td><td>14.20</td><td>0</td><td>2.91</td><td>2.424382e-05</td><td>1.252</td><td>0.841</td><td>1.662</td><td>13.41084</td><td>0.202</td><td>-0.002917147 ..    0.0617887</td><td>29.9</td><td>0.01320455 .. -0.007950718</td></tr>\n",
       "<tr><td>...</td><td>...</td><td>...</td><td>...</td><td>...</td><td>...</td><td>...</td><td>...</td><td>...</td><td>...</td><td>...</td><td>...</td><td>...</td><td>...</td><td>...</td><td>...</td><td>...</td><td>...</td><td>...</td><td>...</td><td>...</td><td>...</td><td>...</td><td>...</td><td>...</td><td>...</td><td>...</td><td>...</td><td>...</td><td>...</td><td>...</td><td>...</td><td>...</td><td>...</td><td>...</td><td>...</td><td>...</td><td>...</td><td>...</td><td>...</td><td>...</td><td>...</td><td>...</td><td>...</td><td>...</td><td>...</td><td>...</td><td>...</td><td>...</td><td>...</td><td>...</td><td>...</td><td>...</td><td>...</td><td>...</td><td>...</td><td>...</td></tr>\n",
       "<tr><td>13046</td><td>149.9678070</td><td>2.4534134</td><td>9365.0654</td><td>31934.4688</td><td>9365.0963</td><td>31934.5195</td><td>25.1900</td><td>0.0104</td><td>25.1430</td><td>0.0150</td><td>24.9645</td><td>0.0470</td><td>25.1927</td><td>0.0105</td><td>25.1927</td><td>0.0105</td><td>14.37295</td><td>0.1383821</td><td>14.37295</td><td>0.1383821</td><td>14.40787</td><td>0.1379404</td><td>2.81</td><td>-0.004399062</td><td>0.07232458</td><td>2.513952</td><td>27</td><td>1.1250810248e+00</td><td>1.3442141167e+00</td><td>-8.6323062633e-02</td><td>31932</td><td>31937</td><td>9363</td><td>9367</td><td>1.172</td><td>1.046</td><td>-70.88</td><td>23.2745</td><td>19.4712</td><td>1.874926e-09</td><td>1.4996780723e+02</td><td>2.4534129763e+00</td><td>9.768414e-06</td><td>8.720675e-06</td><td>70.89</td><td>0</td><td>1.87</td><td>1.5584e-05</td><td>1.120</td><td>0.974</td><td>1.156</td><td>17.73368</td><td>0.107</td><td>0.01068331 ..   -0.0235748</td><td>151.9</td><td>0.0035218569 .. 0.022586077</td></tr>\n",
       "<tr><td>13074</td><td>149.9401995</td><td>2.4494617</td><td>12675.0410</td><td>31460.6699</td><td>12675.0729</td><td>31460.7041</td><td>27.1713</td><td>0.0382</td><td>26.9054</td><td>0.0791</td><td>26.1353</td><td>0.1109</td><td>26.8467</td><td>0.0560</td><td>26.8467</td><td>0.0560</td><td>3.132781</td><td>0.1616511</td><td>3.132781</td><td>0.1616511</td><td>2.323185</td><td>0.08179567</td><td>4.38</td><td>0.001884908</td><td>0.05778043</td><td>0.4042283</td><td>14</td><td>9.9590930847e-01</td><td>1.0636682411e+00</td><td>2.1530544801e-02</td><td>31459</td><td>31463</td><td>12673</td><td>12677</td><td>1.034</td><td>0.995</td><td>73.78</td><td>23.6104</td><td>21.4555</td><td>9.72181e-10</td><td>1.4994019974e+02</td><td>2.4494613895e+00</td><td>8.619568e-06</td><td>8.289944e-06</td><td>-73.78</td><td>0</td><td>2.62</td><td>2.182054e-05</td><td>1.040</td><td>0.006</td><td>1.548</td><td>6.032442</td><td>0.038</td><td>0.03195124 ..  -0.02429116</td><td>34.07</td><td>-0.035816733 .. -0.018396486</td></tr>\n",
       "<tr><td>13077</td><td>149.9557014</td><td>2.4524512</td><td>10816.4512</td><td>31819.2188</td><td>10816.4750</td><td>31819.2269</td><td>24.9274</td><td>0.0074</td><td>24.8870</td><td>0.0108</td><td>24.7903</td><td>0.0337</td><td>24.9477</td><td>0.0071</td><td>24.9477</td><td>0.0071</td><td>18.00999</td><td>0.1172905</td><td>18.00999</td><td>0.1172905</td><td>18.34987</td><td>0.125521</td><td>2.76</td><td>0.002842864</td><td>0.05914082</td><td>3.152818</td><td>33</td><td>1.2825071334e+00</td><td>1.5687906316e+00</td><td>-2.1138808646e-01</td><td>31816</td><td>31824</td><td>10814</td><td>10820</td><td>1.297</td><td>1.082</td><td>-62.05</td><td>23.6142</td><td>19.2253</td><td>2.291573e-09</td><td>1.4995570155e+02</td><td>2.4524511865e+00</td><td>1.080403e-05</td><td>9.015082e-06</td><td>62.05</td><td>0</td><td>1.82</td><td>1.515261e-05</td><td>1.198</td><td>1.000</td><td>1.082</td><td>20.81975</td><td>0.166</td><td>0.01439003 ..  0.005772147</td><td>277.5</td><td>-0.0057064462 .. -0.0318112</td></tr>\n",
       "<tr><td>13085</td><td>149.9897487</td><td>2.4469700</td><td>6734.5415</td><td>31160.9922</td><td>6734.5229</td><td>31161.0310</td><td>25.5568</td><td>0.0124</td><td>25.4896</td><td>0.0199</td><td>25.4623</td><td>0.0661</td><td>25.5781</td><td>0.0120</td><td>25.5781</td><td>0.0120</td><td>10.07749</td><td>0.1113906</td><td>10.07749</td><td>0.1113906</td><td>10.2779</td><td>0.1176059</td><td>2.63</td><td>0.001017162</td><td>0.06405215</td><td>1.945163</td><td>23</td><td>1.1970112488e+00</td><td>1.2221482864e+00</td><td>-3.9933726585e-02</td><td>31158</td><td>31164</td><td>6732</td><td>6737</td><td>1.119</td><td>1.081</td><td>-53.74</td><td>23.4852</td><td>19.7497</td><td>1.597166e-09</td><td>1.4998974858e+02</td><td>2.4469697308e+00</td><td>9.322197e-06</td><td>9.004886e-06</td><td>53.73</td><td>0</td><td>1.70</td><td>1.417052e-05</td><td>1.035</td><td>0.975</td><td>1.078</td><td>11.21205</td><td>0.034</td><td>0.01326722 .. -0.006077843</td><td>143.6</td><td>-0.015408601 .. -0.032420974</td></tr>\n",
       "<tr><td>13092</td><td>149.9497022</td><td>2.4527310</td><td>11535.7900</td><td>31852.9180</td><td>11535.7263</td><td>31852.8849</td><td>28.0225</td><td>0.0603</td><td>27.7099</td><td>0.1277</td><td>26.1598</td><td>0.1170</td><td>27.2376</td><td>0.0784</td><td>27.2376</td><td>0.0784</td><td>2.185509</td><td>0.1577901</td><td>2.185509</td><td>0.1577901</td><td>1.060771</td><td>0.05893383</td><td>5.76</td><td>0.003530979</td><td>0.06114093</td><td>0.2176821</td><td>7</td><td>5.1183651251e-01</td><td>5.6326685411e-01</td><td>-9.4592447680e-02</td><td>31852</td><td>31854</td><td>11535</td><td>11537</td><td>0.797</td><td>0.663</td><td>-52.60</td><td>23.5942</td><td>22.1275</td><td>4.860909e-10</td><td>1.4994970164e+02</td><td>2.4527312696e+00</td><td>6.643471e-06</td><td>5.524601e-06</td><td>52.61</td><td>0</td><td>2.33</td><td>1.938246e-05</td><td>1.203</td><td>0.007</td><td>1.648</td><td>5.897629</td><td>0.168</td><td>-0.02496929 .. -0.004345473</td><td>20.59</td><td>-0.018347733 .. -0.01614898</td></tr>\n",
       "<tr><td>13098</td><td>149.9267683</td><td>2.4515255</td><td>14285.1807</td><td>31708.6582</td><td>14285.3417</td><td>31708.5865</td><td>24.4969</td><td>0.0078</td><td>24.4526</td><td>0.0112</td><td>24.2313</td><td>0.0275</td><td>24.5065</td><td>0.0076</td><td>24.5065</td><td>0.0076</td><td>27.04106</td><td>0.1892882</td><td>27.04106</td><td>0.1892882</td><td>27.27901</td><td>0.1957287</td><td>2.88</td><td>-0.001039798</td><td>0.08157942</td><td>3.803556</td><td>38</td><td>1.4940325957e+00</td><td>1.8662874883e+00</td><td>-8.0015367916e-02</td><td>31705</td><td>31712</td><td>14282</td><td>14288</td><td>1.372</td><td>1.216</td><td>-78.37</td><td>23.1978</td><td>19.0216</td><td>2.63877e-09</td><td>1.4992676964e+02</td><td>2.4515260805e+00</td><td>1.143419e-05</td><td>1.012938e-05</td><td>78.37</td><td>0</td><td>2.32</td><td>1.930527e-05</td><td>1.129</td><td>1.000</td><td>1.262</td><td>34.8419</td><td>0.114</td><td>-0.02912815 ..  -0.03719688</td><td>193.7</td><td>-0.05383304 .. 0.008675424</td></tr>\n",
       "<tr><td>13109</td><td>149.9809048</td><td>2.4577985</td><td>7794.7432</td><td>32460.4648</td><td>7794.7294</td><td>32460.5765</td><td>26.4724</td><td>0.0416</td><td>26.1936</td><td>0.0845</td><td>25.5273</td><td>0.1501</td><td>26.1185</td><td>0.0506</td><td>26.1185</td><td>0.0506</td><td>6.126648</td><td>0.285586</td><td>6.126648</td><td>0.285586</td><td>4.422295</td><td>0.1694389</td><td>3.80</td><td>-0.00333243</td><td>0.1199078</td><td>0.6432096</td><td>15</td><td>1.1253239333e+00</td><td>8.7696187562e-01</td><td>3.8122213046e-02</td><td>32459</td><td>32462</td><td>7793</td><td>7797</td><td>1.064</td><td>0.933</td><td>8.53</td><td>22.7709</td><td>20.9512</td><td>1.041627e-09</td><td>1.4998090464e+02</td><td>2.4577975582e+00</td><td>8.862378e-06</td><td>7.778214e-06</td><td>-8.52</td><td>0</td><td>2.71</td><td>2.256324e-05</td><td>1.139</td><td>0.924</td><td>1.628</td><td>10.56038</td><td>0.122</td><td>-0.01192432 .. -0.006077413</td><td>30.41</td><td>-0.011144674 .. -0.0064254506</td></tr>\n",
       "<tr><td>13161</td><td>149.9576701</td><td>2.4534922</td><td>10580.3848</td><td>31944.1191</td><td>10580.4202</td><td>31944.1102</td><td>23.8678</td><td>0.0050</td><td>23.8409</td><td>0.0068</td><td>23.7152</td><td>0.0193</td><td>23.9140</td><td>0.0043</td><td>23.9140</td><td>0.0043</td><td>46.6664</td><td>0.1835406</td><td>46.6664</td><td>0.1835406</td><td>48.69312</td><td>0.2248089</td><td>2.61</td><td>-0.002685001</td><td>0.09184092</td><td>10.12701</td><td>43</td><td>1.4761203411e+00</td><td>1.6379477941e+00</td><td>-1.5478976560e-01</td><td>31941</td><td>31949</td><td>10576</td><td>10583</td><td>1.316</td><td>1.176</td><td>-58.80</td><td>23.0575</td><td>17.9584</td><td>2.98599e-09</td><td>1.4995767043e+02</td><td>2.4534922218e+00</td><td>1.096595e-05</td><td>9.797645e-06</td><td>58.80</td><td>0</td><td>1.51</td><td>1.262272e-05</td><td>1.119</td><td>0.977</td><td>1.078</td><td>56.04142</td><td>0.107</td><td>-0.058492 ..  0.001666084</td><td>468.8</td><td>0.0002610606 .. 0.03186531</td></tr>\n",
       "<tr><td>13170</td><td>149.9511988</td><td>2.4615504</td><td>11356.0430</td><td>32911.3125</td><td>11356.1756</td><td>32911.2163</td><td>27.3891</td><td>0.0499</td><td>26.9814</td><td>0.1049</td><td>26.9048</td><td>0.2628</td><td>27.0417</td><td>0.0691</td><td>27.0417</td><td>0.0691</td><td>2.617721</td><td>0.1666538</td><td>2.617721</td><td>0.1666538</td><td>1.900852</td><td>0.08731956</td><td>4.24</td><td>0.001817246</td><td>0.06274462</td><td>0.2429322</td><td>14</td><td>1.2147649771e+00</td><td>9.5397218390e-01</td><td>-1.9502602460e-01</td><td>32910</td><td>32913</td><td>11354</td><td>11358</td><td>1.148</td><td>0.922</td><td>-28.12</td><td>23.5362</td><td>22.0084</td><td>9.7218e-10</td><td>1.4995119991e+02</td><td>2.4615511880e+00</td><td>9.570441e-06</td><td>7.681611e-06</td><td>28.12</td><td>0</td><td>3.35</td><td>2.794684e-05</td><td>1.246</td><td>0.000</td><td>1.677</td><td>2.969608</td><td>0.197</td><td>0.03510864 ..   0.03075165</td><td>24.31</td><td>-0.0041136565 .. -0.04128452</td></tr>\n",
       "<tr><td>13177</td><td>149.9431095</td><td>2.4480716</td><td>12326.2881</td><td>31293.7910</td><td>12326.1980</td><td>31293.8415</td><td>27.4093</td><td>0.0420</td><td>27.1593</td><td>0.0867</td><td>27.3691</td><td>0.3488</td><td>27.1980</td><td>0.0656</td><td>27.1980</td><td>0.0656</td><td>2.266858</td><td>0.1369954</td><td>2.266858</td><td>0.1369954</td><td>1.865846</td><td>0.07214977</td><td>4.20</td><td>0.003493443</td><td>0.05867261</td><td>0.2989162</td><td>12</td><td>7.9740809474e-01</td><td>8.9828728054e-01</td><td>5.8230637620e-02</td><td>31292</td><td>31295</td><td>12325</td><td>12328</td><td>0.962</td><td>0.878</td><td>65.45</td><td>23.6223</td><td>21.7832</td><td>8.332987e-10</td><td>1.4994310878e+02</td><td>2.4480711526e+00</td><td>8.014054e-06</td><td>7.316185e-06</td><td>-65.45</td><td>0</td><td>2.62</td><td>2.18226e-05</td><td>1.095</td><td>0.003</td><td>1.342</td><td>1.936295</td><td>0.087</td><td>0.02493807 ..  -0.04877444</td><td>29.01</td><td>0.005173755 .. 0.008700314</td></tr>\n",
       "<tr><td>13209</td><td>149.9159825</td><td>2.4474923</td><td>15578.5039</td><td>31224.9414</td><td>15578.5443</td><td>31224.7860</td><td>27.8005</td><td>0.0774</td><td>27.4098</td><td>0.1670</td><td>27.2797</td><td>1.1120</td><td>27.2027</td><td>0.1005</td><td>27.2027</td><td>0.1005</td><td>2.257025</td><td>0.2088065</td><td>2.257025</td><td>0.2088065</td><td>1.301332</td><td>0.09272937</td><td>5.05</td><td>-0.003170333</td><td>0.1121486</td><td>0.2703449</td><td>6</td><td>2.4998710746e-01</td><td>6.1121783924e-01</td><td>1.5738199846e-02</td><td>31224</td><td>31226</td><td>15578</td><td>15579</td><td>0.782</td><td>0.499</td><td>87.51</td><td>22.8415</td><td>21.8923</td><td>4.166475e-10</td><td>1.4991598285e+02</td><td>2.4474936499e+00</td><td>6.51853e-06</td><td>4.160748e-06</td><td>-87.50</td><td>0</td><td>3.09</td><td>2.572004e-05</td><td>1.567</td><td>0.200</td><td>1.345</td><td>2.102417</td><td>0.362</td><td>0.01060056 ..    0.1170329</td><td>15.38</td><td>-0.07786591 .. 0.0</td></tr>\n",
       "<tr><td>13226</td><td>149.9218246</td><td>2.4475914</td><td>14878.1328</td><td>31236.6328</td><td>14878.1157</td><td>31236.5653</td><td>27.5852</td><td>0.0629</td><td>27.1144</td><td>0.1344</td><td>26.5485</td><td>0.2344</td><td>27.0373</td><td>0.0710</td><td>27.0373</td><td>0.0710</td><td>2.628335</td><td>0.1719266</td><td>2.628335</td><td>0.1719266</td><td>1.586784</td><td>0.09187541</td><td>4.03</td><td>-0.0009768703</td><td>0.08167601</td><td>0.2164465</td><td>9</td><td>5.7156598660e-01</td><td>9.7509149769e-01</td><td>-1.3287549563e-01</td><td>31235</td><td>31238</td><td>14877</td><td>14879</td><td>1.007</td><td>0.729</td><td>-73.32</td><td>23.1839</td><td>22.1337</td><td>6.249719e-10</td><td>1.4992182446e+02</td><td>2.4475919256e+00</td><td>8.395016e-06</td><td>6.07665e-06</td><td>73.32</td><td>0</td><td>2.97</td><td>2.471717e-05</td><td>1.382</td><td>0.011</td><td>1.670</td><td>4.123045</td><td>0.276</td><td>-0.002414659 ..   0.03024598</td><td>18.93</td><td>-0.03371065 .. -0.034261487</td></tr>\n",
       "<tr><td>13238</td><td>149.9646802</td><td>2.4561487</td><td>9739.8779</td><td>32262.8242</td><td>9739.9330</td><td>32262.8034</td><td>27.4165</td><td>0.0492</td><td>27.1335</td><td>0.1025</td><td>27.3143</td><td>0.4122</td><td>27.0437</td><td>0.0633</td><td>27.0437</td><td>0.0633</td><td>2.613001</td><td>0.1524062</td><td>2.613001</td><td>0.1524062</td><td>1.853486</td><td>0.08397148</td><td>4.04</td><td>0.0004272187</td><td>0.0736937</td><td>0.351365</td><td>9</td><td>7.1969080639e-01</td><td>6.9929386753e-01</td><td>-2.5362945173e-02</td><td>32261</td><td>32264</td><td>9738</td><td>9741</td><td>0.858</td><td>0.826</td><td>-34.05</td><td>23.3354</td><td>21.6077</td><td>6.249748e-10</td><td>1.4996468070e+02</td><td>2.4561488479e+00</td><td>7.153136e-06</td><td>6.882537e-06</td><td>34.05</td><td>0</td><td>2.20</td><td>1.836247e-05</td><td>1.039</td><td>0.102</td><td>1.370</td><td>2.036463</td><td>0.038</td><td>-0.001581153 ..  -0.03352609</td><td>25.39</td><td>0.023087265 .. 0.028505795</td></tr>\n",
       "<tr><td>13244</td><td>149.9538840</td><td>2.4734631</td><td>11034.0420</td><td>34340.7188</td><td>11034.0832</td><td>34340.7386</td><td>27.9305</td><td>0.0889</td><td>27.2560</td><td>0.1750</td><td>27.5799</td><td>0.6872</td><td>27.3187</td><td>0.0914</td><td>27.3187</td><td>0.0914</td><td>2.028197</td><td>0.1706044</td><td>2.028197</td><td>0.1706044</td><td>1.154502</td><td>0.09455685</td><td>3.86</td><td>-0.005094637</td><td>0.09598636</td><td>0.2384069</td><td>8</td><td>4.7429204970e-01</td><td>8.4508061120e-01</td><td>-2.1271746771e-01</td><td>34339</td><td>34342</td><td>11033</td><td>11035</td><td>0.970</td><td>0.614</td><td>-65.54</td><td>22.9889</td><td>22.0288</td><td>5.5553e-10</td><td>1.4995388438e+02</td><td>2.4734629450e+00</td><td>8.0872e-06</td><td>5.120167e-06</td><td>65.54</td><td>0</td><td>4.30</td><td>3.579309e-05</td><td>1.580</td><td>0.008</td><td>1.578</td><td>1.594644</td><td>0.367</td><td>-0.01233266 ..  -0.01479558</td><td>13.5</td><td>0.018534455 .. -0.0159643</td></tr>\n",
       "<tr><td>13259</td><td>149.9539205</td><td>2.4558573</td><td>11029.8682</td><td>32228.1602</td><td>11029.9384</td><td>32227.9892</td><td>22.6003</td><td>0.0028</td><td>22.5740</td><td>0.0038</td><td>22.4790</td><td>0.0063</td><td>22.6786</td><td>0.0023</td><td>22.6786</td><td>0.0023</td><td>145.6044</td><td>0.3129203</td><td>145.6044</td><td>0.3129203</td><td>156.489</td><td>0.4072202</td><td>2.69</td><td>0.007366506</td><td>0.09335143</td><td>16.08753</td><td>136</td><td>3.6375316689e+00</td><td>3.9850450473e+00</td><td>7.5696990155e-02</td><td>32222</td><td>32236</td><td>11022</td><td>11036</td><td>2.000</td><td>1.903</td><td>78.23</td><td>23.1712</td><td>17.4559</td><td>9.444051e-09</td><td>1.4995392111e+02</td><td>2.4558587374e+00</td><td>1.666795e-05</td><td>1.585884e-05</td><td>-78.23</td><td>0</td><td>2.91</td><td>2.423481e-05</td><td>1.051</td><td>0.867</td><td>1.547</td><td>174.9827</td><td>0.049</td><td>0.03461395 .. -0.008407044</td><td>724.4</td><td>-0.032433566 .. -0.01742594</td></tr>\n",
       "<tr><td>13332</td><td>149.9356046</td><td>2.4755767</td><td>13225.5557</td><td>34594.6445</td><td>13225.5800</td><td>34594.6570</td><td>27.0824</td><td>0.0535</td><td>26.7405</td><td>0.1147</td><td>26.0403</td><td>0.1935</td><td>26.9507</td><td>0.0666</td><td>26.9507</td><td>0.0666</td><td>2.846603</td><td>0.1745244</td><td>2.846603</td><td>0.1745244</td><td>2.521322</td><td>0.1241332</td><td>3.29</td><td>0.0009348021</td><td>0.1107554</td><td>0.6097426</td><td>7</td><td>7.3966713027e-01</td><td>6.0983980098e-01</td><td>-5.9578151857e-02</td><td>34593</td><td>34596</td><td>13224</td><td>13227</td><td>0.873</td><td>0.766</td><td>-21.27</td><td>22.8904</td><td>21.0092</td><td>4.860871e-10</td><td>1.4993560485e+02</td><td>2.4755765726e+00</td><td>7.278404e-06</td><td>6.382484e-06</td><td>21.28</td><td>0</td><td>1.85</td><td>1.542665e-05</td><td>1.140</td><td>0.949</td><td>1.007</td><td>6.583984</td><td>0.123</td><td>-0.0007954037 ..  -0.01614404</td><td>25.36</td><td>-0.0022435097 .. 0.005779285</td></tr>\n",
       "<tr><td>13338</td><td>149.9402748</td><td>2.4546077</td><td>12665.9551</td><td>32078.2031</td><td>12665.9647</td><td>32078.2415</td><td>23.6513</td><td>0.0040</td><td>23.6290</td><td>0.0052</td><td>23.5093</td><td>0.0142</td><td>23.7063</td><td>0.0031</td><td>23.7063</td><td>0.0031</td><td>56.50406</td><td>0.1614028</td><td>56.50406</td><td>0.1614028</td><td>59.43888</td><td>0.2164384</td><td>2.50</td><td>0.000396992</td><td>0.08154573</td><td>11.12205</td><td>49</td><td>1.6070461997e+00</td><td>1.6135696009e+00</td><td>-4.3488651618e-02</td><td>32074</td><td>32082</td><td>12662</td><td>12670</td><td>1.286</td><td>1.252</td><td>-47.14</td><td>23.2117</td><td>17.8566</td><td>3.40263e-09</td><td>1.4994027492e+02</td><td>2.4546073883e+00</td><td>1.07169e-05</td><td>1.043035e-05</td><td>47.14</td><td>0</td><td>1.87</td><td>1.561645e-05</td><td>1.027</td><td>0.983</td><td>1.158</td><td>67.74667</td><td>0.027</td><td>0.01934021 ..   0.02066695</td><td>620.8</td><td>0.07611058 .. -0.023342986</td></tr>\n",
       "<tr><td>13348</td><td>149.9582431</td><td>2.4653900</td><td>10511.4609</td><td>33371.7891</td><td>10511.5697</td><td>33371.8814</td><td>23.3816</td><td>0.0039</td><td>23.3572</td><td>0.0052</td><td>23.3137</td><td>0.0137</td><td>23.4429</td><td>0.0029</td><td>23.4429</td><td>0.0029</td><td>72.01607</td><td>0.1948464</td><td>72.01607</td><td>0.1948464</td><td>76.2001</td><td>0.2720058</td><td>2.50</td><td>0.001648904</td><td>0.09431995</td><td>12.9754</td><td>55</td><td>1.8365939042e+00</td><td>1.8573864367e+00</td><td>-1.7443483802e-01</td><td>33368</td><td>33377</td><td>10505</td><td>10515</td><td>1.422</td><td>1.293</td><td>-46.71</td><td>23.1032</td><td>17.6893</td><td>3.819279e-09</td><td>1.4995824405e+02</td><td>2.4653892663e+00</td><td>1.184879e-05</td><td>1.077598e-05</td><td>46.71</td><td>0</td><td>1.86</td><td>1.553289e-05</td><td>1.100</td><td>0.981</td><td>1.142</td><td>81.12063</td><td>0.091</td><td>-0.0382283 .. -0.005000044</td><td>644.4</td><td>-0.028233906 .. 0.047088258</td></tr>\n",
       "</table></div>"
      ],
      "text/plain": [
       "<Table length=896>\n",
       "  NUMBER   ALPHAWIN_J2000 DELTAWIN_J2000   X_IMAGE     Y_IMAGE    XWIN_IMAGE ... FLUX_RADIUS  FLUX_APER   ELLIPTICITY             VIGNET             SNR_WIN           ['err_cutout']       \n",
       "                deg            deg           pix         pix         pix     ...     pix          ct                                ct                                                      \n",
       "  int32       float64        float64       float32     float32     float64   ...   float32     float32      float32           float32[35,35]         float32           float32[45,45]       \n",
       "---------- -------------- -------------- ----------- ----------- ----------- ... ----------- ------------ ----------- ----------------------------- ---------- -----------------------------\n",
       "         2    149.9607293      2.2643988  10216.0752   9252.7891  10216.0166 ...       1.392     2.066447       0.194    0.00104458 ..   0.02361595      19.59          0.0 .. -0.0035299624\n",
       "        40    149.9639599      2.2722621   9828.5430  10196.3613   9828.5539 ...       1.551     2.653394       0.243  -0.009016152 ..   0.03436942      23.54   -0.05497395 .. -0.022004446\n",
       "        42    149.9642056      2.2722668   9798.9385  10196.6699   9799.0928 ...       1.182     5.342174       0.160   -0.04855337 ..   0.01131811      46.89   -0.026871732 .. 0.024633981\n",
       "        47    149.9601886      2.2726592  10280.7148  10243.9561  10280.7430 ...       1.297     5.222415       0.111    0.01452808 ..  -0.05605007      16.74  0.0031580944 .. -0.046436552\n",
       "        56    149.9586681      2.2731083  10463.0205  10297.7432  10463.0560 ...       1.139     12.87983       0.089  -0.005687732 ..  -0.01096414      122.2   0.022122515 .. -0.006950262\n",
       "        57    149.9447811      2.2731686  12128.3115  10305.1221  12128.2044 ...       1.636     7.197439       0.275    -0.0268927 ..  0.007210655      19.89     0.004587966 .. -0.1600858\n",
       "        61    149.9439679      2.2735365  12225.9551  10349.2275  12225.7113 ...       1.578     2.806127       0.228    -0.0060128 ..   0.03304055      18.85     0.09194639 .. 0.015439991\n",
       "        69    149.9424459      2.2739529  12408.1514  10399.3545  12408.1953 ...       1.616     16.50559       0.289    0.01661661 ..  -0.02340435      44.82    0.050667867 .. -0.02027603\n",
       "        74    149.9439757      2.2742504  12224.8301  10435.0781  12224.7656 ...       1.230     2.897358       0.176    0.02081243 ..   0.02751668      17.71   -0.017649626 .. -0.04775045\n",
       "        78    149.9645080      2.2744672   9762.8066  10460.8076   9762.8005 ...       1.361     4.522813       0.228   -0.04832246 ..   0.01247807      14.93    0.054139704 .. 0.015104906\n",
       "       105    149.9387315      2.2758625  12853.5176  10628.5146  12853.5480 ...       1.051     5.179341       0.214    0.06041823 .. -0.002301032      24.24     0.09348683 .. 0.054496404\n",
       "       116    149.9450277      2.2765052  12098.8389  10705.5059  12098.5835 ...       1.260     3.062545       0.346   -0.02443743 ..  -0.00125066      17.05     0.029025134 .. 0.09567514\n",
       "       118    149.9344966      2.2766104  13361.4570  10718.3359  13361.3294 ...       1.136     36.94412       0.137    0.03812352 ..   0.04559257      226.1    -0.04019776 .. 0.012014667\n",
       "       121    149.9434582      2.2768048  12286.8184  10741.5576  12286.7762 ...       1.552     4.383274       0.143    0.01908796 ..    0.0279611      28.27     0.036907148 .. 0.03389449\n",
       "       127    149.9290207      2.2771248  14017.9619  10780.0859  14017.9232 ...       1.052     1.009804       0.006             0 ..   0.01300524      24.58             0.0 .. 0.03377259\n",
       "       141    149.9494562      2.2778567  11567.6338  10867.5674  11567.5614 ...       1.213     1.018374       0.434    -0.0751247 .. -0.001699592      14.09  0.029462414 .. -0.0033561129\n",
       "       161    149.9500353      2.2788039  11498.0205  10981.4639  11498.1132 ...       1.662     13.41084       0.202  -0.002917147 ..    0.0617887       29.9    0.01320455 .. -0.007950718\n",
       "       ...            ...            ...         ...         ...         ... ...         ...          ...         ...                           ...        ...                           ...\n",
       "     13046    149.9678070      2.4534134   9365.0654  31934.4688   9365.0963 ...       1.156     17.73368       0.107    0.01068331 ..   -0.0235748      151.9   0.0035218569 .. 0.022586077\n",
       "     13074    149.9401995      2.4494617  12675.0410  31460.6699  12675.0729 ...       1.548     6.032442       0.038    0.03195124 ..  -0.02429116      34.07  -0.035816733 .. -0.018396486\n",
       "     13077    149.9557014      2.4524512  10816.4512  31819.2188  10816.4750 ...       1.082     20.81975       0.166    0.01439003 ..  0.005772147      277.5   -0.0057064462 .. -0.0318112\n",
       "     13085    149.9897487      2.4469700   6734.5415  31160.9922   6734.5229 ...       1.078     11.21205       0.034    0.01326722 .. -0.006077843      143.6  -0.015408601 .. -0.032420974\n",
       "     13092    149.9497022      2.4527310  11535.7900  31852.9180  11535.7263 ...       1.648     5.897629       0.168   -0.02496929 .. -0.004345473      20.59   -0.018347733 .. -0.01614898\n",
       "     13098    149.9267683      2.4515255  14285.1807  31708.6582  14285.3417 ...       1.262      34.8419       0.114   -0.02912815 ..  -0.03719688      193.7    -0.05383304 .. 0.008675424\n",
       "     13109    149.9809048      2.4577985   7794.7432  32460.4648   7794.7294 ...       1.628     10.56038       0.122   -0.01192432 .. -0.006077413      30.41 -0.011144674 .. -0.0064254506\n",
       "     13161    149.9576701      2.4534922  10580.3848  31944.1191  10580.4202 ...       1.078     56.04142       0.107     -0.058492 ..  0.001666084      468.8    0.0002610606 .. 0.03186531\n",
       "     13170    149.9511988      2.4615504  11356.0430  32911.3125  11356.1756 ...       1.677     2.969608       0.197    0.03510864 ..   0.03075165      24.31  -0.0041136565 .. -0.04128452\n",
       "     13177    149.9431095      2.4480716  12326.2881  31293.7910  12326.1980 ...       1.342     1.936295       0.087    0.02493807 ..  -0.04877444      29.01    0.005173755 .. 0.008700314\n",
       "     13209    149.9159825      2.4474923  15578.5039  31224.9414  15578.5443 ...       1.345     2.102417       0.362    0.01060056 ..    0.1170329      15.38            -0.07786591 .. 0.0\n",
       "     13226    149.9218246      2.4475914  14878.1328  31236.6328  14878.1157 ...       1.670     4.123045       0.276  -0.002414659 ..   0.03024598      18.93   -0.03371065 .. -0.034261487\n",
       "     13238    149.9646802      2.4561487   9739.8779  32262.8242   9739.9330 ...       1.370     2.036463       0.038  -0.001581153 ..  -0.03352609      25.39    0.023087265 .. 0.028505795\n",
       "     13244    149.9538840      2.4734631  11034.0420  34340.7188  11034.0832 ...       1.578     1.594644       0.367   -0.01233266 ..  -0.01479558       13.5     0.018534455 .. -0.0159643\n",
       "     13259    149.9539205      2.4558573  11029.8682  32228.1602  11029.9384 ...       1.547     174.9827       0.049    0.03461395 .. -0.008407044      724.4   -0.032433566 .. -0.01742594\n",
       "     13332    149.9356046      2.4755767  13225.5557  34594.6445  13225.5800 ...       1.007     6.583984       0.123 -0.0007954037 ..  -0.01614404      25.36  -0.0022435097 .. 0.005779285\n",
       "     13338    149.9402748      2.4546077  12665.9551  32078.2031  12665.9647 ...       1.158     67.74667       0.027    0.01934021 ..   0.02066695      620.8    0.07611058 .. -0.023342986\n",
       "     13348    149.9582431      2.4653900  10511.4609  33371.7891  10511.5697 ...       1.142     81.12063       0.091    -0.0382283 .. -0.005000044      644.4   -0.028233906 .. 0.047088258"
      ]
     },
     "execution_count": 228,
     "metadata": {},
     "output_type": "execute_result"
    }
   ],
   "source": [
    "starcat"
   ]
  },
  {
   "cell_type": "code",
   "execution_count": 250,
   "id": "db8538e2",
   "metadata": {},
   "outputs": [],
   "source": [
    "ff = fitsio.FITS(catalog, 'rw')"
   ]
  },
  {
   "cell_type": "code",
   "execution_count": 251,
   "id": "023da4ad",
   "metadata": {},
   "outputs": [
    {
     "data": {
      "text/plain": [
       "896"
      ]
     },
     "execution_count": 251,
     "metadata": {},
     "output_type": "execute_result"
    }
   ],
   "source": [
    "ff[1].get_nrows()"
   ]
  },
  {
   "cell_type": "code",
   "execution_count": null,
   "id": "871f39e3",
   "metadata": {},
   "outputs": [],
   "source": []
  }
 ],
 "metadata": {
  "kernelspec": {
   "display_name": "Python 3 (ipykernel)",
   "language": "python",
   "name": "python3"
  },
  "language_info": {
   "codemirror_mode": {
    "name": "ipython",
    "version": 3
   },
   "file_extension": ".py",
   "mimetype": "text/x-python",
   "name": "python",
   "nbconvert_exporter": "python",
   "pygments_lexer": "ipython3",
   "version": "3.11.0"
  }
 },
 "nbformat": 4,
 "nbformat_minor": 5
}
